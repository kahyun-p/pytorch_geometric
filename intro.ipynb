{
 "cells": [
  {
   "cell_type": "code",
   "execution_count": 1,
   "metadata": {},
   "outputs": [],
   "source": [
    "import torch_geometric\n",
    "from torch_geometric.datasets import Planetoid"
   ]
  },
  {
   "cell_type": "code",
   "execution_count": 2,
   "metadata": {},
   "outputs": [
    {
     "name": "stderr",
     "output_type": "stream",
     "text": [
      "Downloading https://github.com/kimiyoung/planetoid/raw/master/data/ind.cora.x\n",
      "Downloading https://github.com/kimiyoung/planetoid/raw/master/data/ind.cora.tx\n",
      "Downloading https://github.com/kimiyoung/planetoid/raw/master/data/ind.cora.allx\n",
      "Downloading https://github.com/kimiyoung/planetoid/raw/master/data/ind.cora.y\n",
      "Downloading https://github.com/kimiyoung/planetoid/raw/master/data/ind.cora.ty\n",
      "Downloading https://github.com/kimiyoung/planetoid/raw/master/data/ind.cora.ally\n",
      "Downloading https://github.com/kimiyoung/planetoid/raw/master/data/ind.cora.graph\n",
      "Downloading https://github.com/kimiyoung/planetoid/raw/master/data/ind.cora.test.index\n",
      "Processing...\n",
      "Done!\n"
     ]
    }
   ],
   "source": [
    "#root: create new folder for downloaded data\n",
    "#이미 있으면 아무것도 안나옴\n",
    "dataset=Planetoid(root=\"tutorial\", name=\"Cora\")\n"
   ]
  },
  {
   "cell_type": "code",
   "execution_count": 26,
   "metadata": {},
   "outputs": [
    {
     "name": "stdout",
     "output_type": "stream",
     "text": [
      "Cora()\n",
      "# of graphs:\t 1\n",
      "# of classes:\t 7\n",
      "# of node features:\t 1433\n",
      "# of edge features:\t 0\n"
     ]
    }
   ],
   "source": [
    "print(dataset)\n",
    "print(\"# of graphs:\\t\",len(dataset)) \n",
    "print(\"# of classes:\\t\", dataset.num_classes)\n",
    "print(\"# of node features:\\t\",dataset.num_node_features)\n",
    "print(\"# of edge features:\\t\",dataset.num_edge_features)"
   ]
  },
  {
   "cell_type": "code",
   "execution_count": 27,
   "metadata": {},
   "outputs": [
    {
     "name": "stdout",
     "output_type": "stream",
     "text": [
      "Data(x=[2708, 1433], edge_index=[2, 10556], y=[2708], train_mask=[2708], val_mask=[2708], test_mask=[2708])\n"
     ]
    }
   ],
   "source": [
    "#Summarization of dataset\n",
    "print(dataset.data)"
   ]
  },
  {
   "cell_type": "code",
   "execution_count": 28,
   "metadata": {},
   "outputs": [
    {
     "name": "stdout",
     "output_type": "stream",
     "text": [
      "edge index:\t torch.Size([2, 10556])\n",
      "tensor([[   0,    0,    0,  ..., 2707, 2707, 2707],\n",
      "        [ 633, 1862, 2582,  ...,  598, 1473, 2706]])\n",
      "10556\n"
     ]
    }
   ],
   "source": [
    "print(\"edge index:\\t\", dataset.data.edge_index.shape)\n",
    "#edge info : first row and second row are the ends of edges\n",
    "print(dataset.data.edge_index)\n",
    "# number of edges in the graph\n",
    "print(len(dataset.data.edge_index[0]))"
   ]
  },
  {
   "cell_type": "code",
   "execution_count": 29,
   "metadata": {},
   "outputs": [
    {
     "name": "stdout",
     "output_type": "stream",
     "text": [
      "train mask:\t torch.Size([2708])\n",
      "tensor([ True,  True,  True,  ..., False, False, False])\n"
     ]
    }
   ],
   "source": [
    "# Train mask: tensor filled with boolean values\n",
    "# indicate whether a node is in the training set\n",
    "print(\"train mask:\\t\",dataset.data.train_mask.shape)\n",
    "print(dataset.data.train_mask)"
   ]
  },
  {
   "cell_type": "code",
   "execution_count": 30,
   "metadata": {},
   "outputs": [
    {
     "name": "stdout",
     "output_type": "stream",
     "text": [
      "X:\t torch.Size([2708, 1433])\n",
      "tensor([[0., 0., 0.,  ..., 0., 0., 0.],\n",
      "        [0., 0., 0.,  ..., 0., 0., 0.],\n",
      "        [0., 0., 0.,  ..., 0., 0., 0.],\n",
      "        ...,\n",
      "        [0., 0., 0.,  ..., 0., 0., 0.],\n",
      "        [0., 0., 0.,  ..., 0., 0., 0.],\n",
      "        [0., 0., 0.,  ..., 0., 0., 0.]])\n",
      "y:\t torch.Size([2708])\n",
      "tensor([3, 4, 4,  ..., 3, 3, 3])\n"
     ]
    }
   ],
   "source": [
    "#X : node feature matrix\n",
    "print(\"X:\\t\",dataset.data.x.shape)\n",
    "print(dataset.data.x)\n",
    "# y: node label\n",
    "print(\"y:\\t\", dataset.data.y.shape)\n",
    "print(dataset.data.y)"
   ]
  },
  {
   "cell_type": "code",
   "execution_count": 31,
   "metadata": {},
   "outputs": [],
   "source": [
    "import os.path as osp\n",
    "import torch\n",
    "import torch.nn.functional as F\n",
    "from torch_geometric.nn import SAGEConv"
   ]
  },
  {
   "cell_type": "code",
   "execution_count": 32,
   "metadata": {},
   "outputs": [],
   "source": [
    "#I only have one dataset : Cora\n",
    "data=dataset[0]"
   ]
  },
  {
   "cell_type": "code",
   "execution_count": 33,
   "metadata": {},
   "outputs": [],
   "source": [
    "class Net(torch.nn.Module):\n",
    "    def __init__(self):\n",
    "        super(Net, self).__init__()\n",
    "        self.conv=SAGEConv(dataset.num_features,\n",
    "                           dataset.num_classes,\n",
    "                           aggr=\"max\")\n",
    "    def forward(self):\n",
    "        x=self.conv(data.x, data.edge_index)\n",
    "        return F.log_softmax(x, dim=1)"
   ]
  },
  {
   "cell_type": "code",
   "execution_count": 34,
   "metadata": {},
   "outputs": [],
   "source": [
    "# GPU : check if GPU is available. select gpu to use\n",
    "device=torch.device('cuda' if torch.cuda.is_available() else 'cpu')\n",
    "model, data=Net().to(device),data.to(device)\n",
    "optimizer=torch.optim.Adam(model.parameters(),lr=0.01,weight_decay=5e-4) "
   ]
  },
  {
   "cell_type": "code",
   "execution_count": 37,
   "metadata": {},
   "outputs": [],
   "source": [
    "def train():\n",
    "    model.train()\n",
    "    optimizer.zero_grad()\n",
    "    F.nll_loss(model()[data.train_mask],data.y[data.train_mask]).backward()\n",
    "    optimizer.step()\n",
    "\n",
    "def test():\n",
    "    model.eval()\n",
    "    logits, accs=model(),[]\n",
    "    for _, mask in data('train_mask','val_mask','test_mask'):\n",
    "        pred=logits[mask].max(1)[1]\n",
    "        acc=pred.eq(data.y[mask]).sum().item()/mask.sum().item()\n",
    "        accs.append(acc)\n",
    "    return accs"
   ]
  },
  {
   "cell_type": "code",
   "execution_count": 38,
   "metadata": {},
   "outputs": [
    {
     "name": "stdout",
     "output_type": "stream",
     "text": [
      "Epoch010, Val: 0.7280, Test:0.7250\n",
      "Epoch020, Val: 0.7280, Test:0.7250\n",
      "Epoch030, Val: 0.7280, Test:0.7250\n",
      "Epoch040, Val: 0.7280, Test:0.7250\n",
      "Epoch050, Val: 0.7280, Test:0.7250\n",
      "Epoch060, Val: 0.7320, Test:0.7130\n",
      "Epoch070, Val: 0.7320, Test:0.7130\n",
      "Epoch080, Val: 0.7320, Test:0.7130\n",
      "Epoch090, Val: 0.7320, Test:0.7130\n"
     ]
    }
   ],
   "source": [
    "best_val_acc=test_acc=0\n",
    "for epoch in range(1,100):\n",
    "    train()\n",
    "    _, val_acc, tmp_test_acc=test()\n",
    "    if val_acc>best_val_acc:\n",
    "        best_val_acc=val_acc\n",
    "        test_acc=tmp_test_acc\n",
    "    log='Epoch{:03d}, Val: {:.4f}, Test:{:.4f}'\n",
    "    \n",
    "    if epoch%10==0:\n",
    "        print(log.format(epoch,best_val_acc,test_acc))"
   ]
  },
  {
   "cell_type": "code",
   "execution_count": null,
   "metadata": {},
   "outputs": [],
   "source": []
  }
 ],
 "metadata": {
  "kernelspec": {
   "display_name": "lsgcn",
   "language": "python",
   "name": "python3"
  },
  "language_info": {
   "codemirror_mode": {
    "name": "ipython",
    "version": 3
   },
   "file_extension": ".py",
   "mimetype": "text/x-python",
   "name": "python",
   "nbconvert_exporter": "python",
   "pygments_lexer": "ipython3",
   "version": "3.10.8"
  },
  "orig_nbformat": 4,
  "vscode": {
   "interpreter": {
    "hash": "7bce5ff94dcbab4c8425e72d748e805045d7f13b27fd3ec9404b603e4415340e"
   }
  }
 },
 "nbformat": 4,
 "nbformat_minor": 2
}
